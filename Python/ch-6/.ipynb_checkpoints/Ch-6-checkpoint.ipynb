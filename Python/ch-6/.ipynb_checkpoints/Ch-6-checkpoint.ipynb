{
 "cells": [
  {
   "cell_type": "markdown",
   "id": "c9e855dc",
   "metadata": {},
   "source": [
    "# Intro to GUI & Game Development using Python"
   ]
  },
  {
   "cell_type": "code",
   "execution_count": 9,
   "id": "e2b399fc",
   "metadata": {},
   "outputs": [
    {
     "name": "stdout",
     "output_type": "stream",
     "text": [
      "0.3597975535809095\n"
     ]
    }
   ],
   "source": [
    "# random function\n",
    "import random\n",
    "print(random.random()) #will generate a random number between 0 to 1"
   ]
  },
  {
   "cell_type": "code",
   "execution_count": 23,
   "id": "87734fce",
   "metadata": {},
   "outputs": [
    {
     "name": "stdout",
     "output_type": "stream",
     "text": [
      "0.23796462709189137\n"
     ]
    }
   ],
   "source": [
    "import random\n",
    "random.seed(3) #will fix the random number\n",
    "print(random.random())"
   ]
  },
  {
   "cell_type": "code",
   "execution_count": 32,
   "id": "ff01c0ff",
   "metadata": {},
   "outputs": [
    {
     "name": "stdout",
     "output_type": "stream",
     "text": [
      "0.9056396761745207\n"
     ]
    }
   ],
   "source": [
    "import random\n",
    "random.seed(20)\n",
    "print(random.random())"
   ]
  },
  {
   "cell_type": "code",
   "execution_count": 60,
   "id": "f7ceeaf5",
   "metadata": {},
   "outputs": [
    {
     "name": "stdout",
     "output_type": "stream",
     "text": [
      "abc\n"
     ]
    }
   ],
   "source": [
    "import random\n",
    "# x='welcome'\n",
    "# x=[1,2,3,4,5,6]\n",
    "x=['abc','bcd','cde',123]\n",
    "print(random.choice(x))"
   ]
  },
  {
   "cell_type": "code",
   "execution_count": 131,
   "id": "9991e6ef",
   "metadata": {},
   "outputs": [
    {
     "name": "stdout",
     "output_type": "stream",
     "text": [
      "2\n"
     ]
    }
   ],
   "source": [
    "import random\n",
    "print(random.randint(1,3)) #3 will be included"
   ]
  },
  {
   "cell_type": "code",
   "execution_count": 72,
   "id": "e0e4b47a",
   "metadata": {},
   "outputs": [
    {
     "name": "stdout",
     "output_type": "stream",
     "text": [
      "2\n"
     ]
    }
   ],
   "source": [
    "import random\n",
    "print(random.randrange(1,3)) #3 will be excluded"
   ]
  },
  {
   "cell_type": "code",
   "execution_count": 90,
   "id": "44ab8237",
   "metadata": {},
   "outputs": [
    {
     "name": "stdout",
     "output_type": "stream",
     "text": [
      "20\n"
     ]
    }
   ],
   "source": [
    "import random\n",
    "print(random.randrange(2,50,2))"
   ]
  },
  {
   "cell_type": "code",
   "execution_count": 103,
   "id": "c82554ce",
   "metadata": {},
   "outputs": [
    {
     "name": "stdout",
     "output_type": "stream",
     "text": [
      "3\n"
     ]
    }
   ],
   "source": [
    "print(random.randint(1,3)) #have to give 2 complusory arguments"
   ]
  },
  {
   "cell_type": "code",
   "execution_count": 99,
   "id": "7ef77e15",
   "metadata": {},
   "outputs": [
    {
     "name": "stdout",
     "output_type": "stream",
     "text": [
      "6\n"
     ]
    }
   ],
   "source": [
    "print(random.randrange(10))"
   ]
  },
  {
   "cell_type": "code",
   "execution_count": 111,
   "id": "74ed3d45",
   "metadata": {},
   "outputs": [
    {
     "name": "stdout",
     "output_type": "stream",
     "text": [
      "['cda', 123, 'abc', 'bcd']\n"
     ]
    }
   ],
   "source": [
    "list=['abc','bcd','cda',123]\n",
    "random.shuffle(list)\n",
    "print(list)"
   ]
  },
  {
   "cell_type": "code",
   "execution_count": 120,
   "id": "083fda5b",
   "metadata": {},
   "outputs": [
    {
     "name": "stdout",
     "output_type": "stream",
     "text": [
      "['abc', 'bcd', 123, 'cda']\n"
     ]
    }
   ],
   "source": [
    "list=['abc','bcd','cda',123]\n",
    "random.seed(5)\n",
    "random.shuffle(list)\n",
    "print(list)"
   ]
  },
  {
   "cell_type": "code",
   "execution_count": 131,
   "id": "ffe05346",
   "metadata": {},
   "outputs": [
    {
     "name": "stdout",
     "output_type": "stream",
     "text": [
      "[123, 'abc', 'asd', 'asd', '123']\n"
     ]
    },
    {
     "name": "stderr",
     "output_type": "stream",
     "text": [
      "C:\\Users\\ASUS\\AppData\\Local\\Temp\\ipykernel_6844\\3326433060.py:6: DeprecationWarning: The *random* parameter to shuffle() has been deprecated\n",
      "since Python 3.9 and will be removed in a subsequent version.\n",
      "  random.shuffle(list,waah)\n"
     ]
    }
   ],
   "source": [
    "list=['123',123,'abc','asd','asd']\n",
    "\n",
    "def waah():\n",
    "    return 0.1 # have to give float value between 0 to 1(excluding 1)\n",
    "    # will fix the list\n",
    "random.shuffle(list,waah)\n",
    "print(list)"
   ]
  },
  {
   "cell_type": "code",
   "execution_count": 143,
   "id": "b6b5c7b4",
   "metadata": {},
   "outputs": [
    {
     "name": "stdout",
     "output_type": "stream",
     "text": [
      "['123', 123, 'asd', 'asd', 'abc']\n"
     ]
    }
   ],
   "source": [
    "random.shuffle(list)\n",
    "print(list)"
   ]
  },
  {
   "cell_type": "code",
   "execution_count": 145,
   "id": "8746939e",
   "metadata": {},
   "outputs": [
    {
     "name": "stdout",
     "output_type": "stream",
     "text": [
      "Enter your question: 2\n",
      "Your question is: 2\n",
      "Probably Not.\n"
     ]
    }
   ],
   "source": [
    "# Mystical Octosphere Game\n",
    "import random\n",
    "\n",
    "def ans(number):\n",
    "    \n",
    "    if number==0:\n",
    "        return \"Yes, for sure!\"\n",
    "    \n",
    "    elif number==1:\n",
    "        return \"Probably Yes.\"\n",
    "    \n",
    "    elif number==2:\n",
    "        return \"Seems like it.\"\n",
    "    \n",
    "    elif number==3:\n",
    "        return \"Definitely No.\"\n",
    "    \n",
    "    elif number==4:\n",
    "        return \"Probably Not.\"\n",
    "    \n",
    "    else:\n",
    "        return \"Shut it.\"\n",
    "    \n",
    "def question(que):\n",
    "    \n",
    "    print(\"Your question is:\",que)\n",
    "    \n",
    "    s=ans(random.randint(0,5))\n",
    "    print(s)\n",
    "\n",
    "que=input(\"Enter your question: \")    \n",
    "question(que)"
   ]
  },
  {
   "cell_type": "code",
   "execution_count": 147,
   "id": "94783355",
   "metadata": {},
   "outputs": [
    {
     "name": "stdout",
     "output_type": "stream",
     "text": [
      "Ques:WEWE\n"
     ]
    },
    {
     "data": {
      "text/plain": [
       "'Yes'"
      ]
     },
     "execution_count": 147,
     "metadata": {},
     "output_type": "execute_result"
    }
   ],
   "source": [
    "numbers={\n",
    "    1:\"Yes\",\n",
    "    2:\"Might Be\",\n",
    "    3:\"Not\"\n",
    "}\n",
    "\n",
    "def fun(a):\n",
    "    return numbers[a]\n",
    "\n",
    "a=random.randint(1,3)\n",
    "que=input(\"Ques:\")\n",
    "fun(a)"
   ]
  },
  {
   "cell_type": "code",
   "execution_count": 150,
   "id": "401a3e1d",
   "metadata": {},
   "outputs": [
    {
     "name": "stdout",
     "output_type": "stream",
     "text": [
      "Enter Rounds:3\n",
      "Enter: Rock\n",
      "Computer: Paper\n",
      "You Lose!\n",
      "Enter: Paper\n",
      "Computer: Paper\n",
      "Tie\n",
      "Enter: Paper\n",
      "Computer: Paper\n",
      "Tie\n",
      "\n",
      "Your Score:  0\n",
      "Computer's Score:  1\n"
     ]
    }
   ],
   "source": [
    "# rock,paper,scissors\n",
    "import random\n",
    "\n",
    "comp={\n",
    "    1:'Rock',\n",
    "    2:'Paper',\n",
    "    3:'Scissors'\n",
    "}\n",
    "\n",
    "def fun():\n",
    "    \n",
    "    score=0\n",
    "    cscore=0\n",
    "    rounds=int(input(\"Enter Rounds:\"))\n",
    "    \n",
    "    for i in range(rounds):\n",
    "        \n",
    "        a=random.randint(1,3)\n",
    "        x=comp[a]\n",
    "        user=input(\"Enter: \")\n",
    "        \n",
    "        if user==x:\n",
    "    #         print(\"User:\",user)\n",
    "            print(\"Computer:\",x)\n",
    "            print('Tie')\n",
    "            \n",
    "    \n",
    "        elif user==\"Rock\" and x==\"Paper\":\n",
    "            cscore=cscore+1\n",
    "    #         print(\"User:\",user)\n",
    "            print(\"Computer:\",x)\n",
    "            print('You Lose!')\n",
    "    \n",
    "        elif user==\"Rock\" and x==\"Scissors\":\n",
    "            score=score+1\n",
    "    #         print(\"User: \",user)\n",
    "            print(\"Computer: \",x)\n",
    "            print('You Won!')\n",
    "\n",
    "        elif user==\"Paper\" and x==\"Rock\":\n",
    "            score=score+1\n",
    "    #         print(\"User: \",user)\n",
    "            print(\"Computer: \",x)\n",
    "            print('You Won!')\n",
    "    \n",
    "        elif user==\"Paper\" and x==\"Scissors\":\n",
    "            cscore=cscore+1\n",
    "    #         print(\"User:\",user)\n",
    "            print(\"Computer:\",x)\n",
    "            print('You Lose!')\n",
    "\n",
    "        elif user==\"Scissors\" and x==\"Rock\":\n",
    "            cscore=cscore+1\n",
    "    #         print(\"User:\",user)\n",
    "            print(\"Computer:\",x)\n",
    "            print('You Lose!')\n",
    "    \n",
    "        elif user==\"Scissors\" and x==\"Paper\":\n",
    "            score=score+1\n",
    "    #         print(\"User:\",user)\n",
    "            print(\"Computer:\",x)\n",
    "            print('You Won!')\n",
    "            \n",
    "    print()\n",
    "    print(\"Your Score: \",score)\n",
    "    print(\"Computer's Score: \",cscore)\n",
    "\n",
    "\n",
    "fun()"
   ]
  },
  {
   "cell_type": "code",
   "execution_count": null,
   "id": "23efe692",
   "metadata": {},
   "outputs": [],
   "source": [
    "# rock,paper,scissors (the cool way)\n",
    "import random\n",
    "\n",
    "def rock_paper_sessior():\n",
    "    t=[\"rock\",'paper','sessior']\n",
    "    user=input(\"Enter your choice \").lower()\n",
    "    computer=t[randint(0,2)]\n",
    "    print(\"Computer choice\",computer)\n",
    "    if user in t:\n",
    "        diff=(t.index(computer)-t.index(user))%3\n",
    "        if(diff==0):\n",
    "            print(\"tie\")\n",
    "        if(diff==1):\n",
    "            print(\"computer win\")\n",
    "        if(diff==2):\n",
    "            print(\"user win\")\n",
    "    else:\n",
    "        print(\"Enter valid choice\")\n",
    "rock_paper_sessior()"
   ]
  },
  {
   "cell_type": "code",
   "execution_count": null,
   "id": "9ae7a316",
   "metadata": {},
   "outputs": [],
   "source": [
    "# rock,paper,scissors,lizard,spack(the cool way)\n",
    "\n",
    "from random import randint\n",
    "t=['rock','spoke','paper','lizard','sessior']\n",
    "user=input(\"Enter your Choice \").lower()\n",
    "computer=t[randint(0,4)]\n",
    "print(\"Computer choice\",computer)\n",
    "if user in t:\n",
    "    diff=(t.index(computer)-t.index(user))%5\n",
    "    if(diff==0):\n",
    "        print(\"Game is Tie\")\n",
    "    if(diff==1 or diff==2):\n",
    "        print(\"Yeyyy User win!!!\")\n",
    "    if(diff==3 or diff==4):\n",
    "        print(\"Ohh computer win!!\")\n",
    "else:\n",
    "    print(\"Enter vaild choice\")"
   ]
  },
  {
   "cell_type": "code",
   "execution_count": 9,
   "id": "b3e105c2",
   "metadata": {},
   "outputs": [
    {
     "name": "stdout",
     "output_type": "stream",
     "text": [
      "Enter Rounds:3\n",
      "Player choose:paper\n",
      "Computer chooses: lizard\n",
      "Computer wins!\n",
      "\n",
      "\n",
      "Player choose:rock\n",
      "Computer chooses: lizard\n",
      "Player wins!\n",
      "\n",
      "\n",
      "Player choose:scissors\n",
      "Computer chooses: spock\n",
      "Computer wins!\n",
      "\n",
      "\n"
     ]
    }
   ],
   "source": [
    "# Rock-paper-scissors-lizard-Spock (have to do this on my own)\n",
    " \n",
    "import random\n",
    "\n",
    "def name_to_number(name):\n",
    "    if(name == 'rock'):\n",
    "        return 0;\n",
    "    elif(name == 'spock'):\n",
    "        return 1;\n",
    "    elif(name == 'paper'):\n",
    "        return 2;\n",
    "    elif(name == 'lizard'):\n",
    "        return 3;\n",
    "    elif(name == 'scissors'):\n",
    "        return 4;\n",
    "    else:\n",
    "        print(\"ERROR Name\")\n",
    "\n",
    "def number_to_name(number):\n",
    "     \n",
    "    if(number == 0):\n",
    "        return 'rock';\n",
    "    elif(number == 1):\n",
    "        return 'spock';\n",
    "    elif(number == 2):\n",
    "        return 'paper';\n",
    "    elif(number == 3):\n",
    "        return 'lizard';\n",
    "    elif(number == 4):\n",
    "        return 'scissors';\n",
    "    else:\n",
    "        print(\"ERROR Number\")\n",
    "def rpsls(): \n",
    "    \n",
    "    score=0\n",
    "    cscore=0\n",
    "    rounds=int(input(\"Enter Rounds:\"))\n",
    "    \n",
    "    for i in range(rounds):\n",
    "\n",
    "        player_choice=input(\"Player choose:\")\n",
    "\n",
    "        # convert the player's choice to player_number\n",
    "        player_number = name_to_number( player_choice )\n",
    "\n",
    "        # compute random guess for comp_number\n",
    "        comp_number = random.randrange( 0, 4 )\n",
    "\n",
    "        # convert comp_number to comp_choice\n",
    "        comp_choice = number_to_name( comp_number );\n",
    "\n",
    "        print (\"Computer chooses: \" + comp_choice)\n",
    "\n",
    "        # compute difference of comp_number and player_number modulo five\n",
    "        difference = (comp_number - player_number) % 5\n",
    "\n",
    "        if( difference == 1 or difference == 2 ):\n",
    "            print(\"Computer wins!\")\n",
    "        elif ( difference == 4 or difference == 3 ):\n",
    "            print(\"Player wins!\")\n",
    "        elif( difference == 0 ):\n",
    "            print(\"Player and computer tie!\")\n",
    "        print(\"\\n\")    \n",
    "\n",
    "\n",
    "rpsls()"
   ]
  },
  {
   "cell_type": "code",
   "execution_count": 1,
   "id": "1058ebb9",
   "metadata": {},
   "outputs": [
    {
     "name": "stdout",
     "output_type": "stream",
     "text": [
      "Enter your guessed number:4\n",
      "Number is greater than you gussed.\n",
      "Enter again:95\n",
      "Number is lower than you gussed.\n",
      "Enter again:55\n",
      "Number is greater than you gussed.\n",
      "Enter again:60\n",
      "Number is greater than you gussed.\n",
      "Enter again:70\n",
      "Number is greater than you gussed.\n",
      "Enter again:71\n",
      "Number is greater than you gussed.\n",
      "Enter again:80\n",
      "Number is greater than you gussed.\n",
      "Enter again:85\n",
      "Number is lower than you gussed.\n",
      "Enter again:84\n",
      "Number is lower than you gussed.\n",
      "Enter again:82\n",
      "Number is greater than you gussed.\n",
      "Enter again:83\n",
      "You gussed the right number!!!\n",
      "Your score: 10\n"
     ]
    }
   ],
   "source": [
    "#number guessing game\n",
    "import random\n",
    "\n",
    "a=random.randint(1,100)\n",
    "i=int(input(\"Enter your guessed number:\"))\n",
    "score=0\n",
    "\n",
    "while True:\n",
    "    if i>a:\n",
    "        print(\"Number is lower than you gussed.\")\n",
    "        score+=1\n",
    "    \n",
    "    elif i<a:\n",
    "        print(\"Number is greater than you gussed.\")\n",
    "        score+=1\n",
    "    \n",
    "    elif i==a:\n",
    "        print(\"You gussed the right number!!!\")\n",
    "        print(\"Your score:\",score)\n",
    "        break\n",
    "        \n",
    "    i=int(input(\"Enter again:\"))        "
   ]
  },
  {
   "cell_type": "code",
   "execution_count": 3,
   "id": "e7cd3a53",
   "metadata": {},
   "outputs": [
    {
     "name": "stdout",
     "output_type": "stream",
     "text": [
      "You have seven attemps to guess the number.\n",
      "Enter your guessed number:34\n",
      "Number is lower than you gussed.\n",
      "Enter again:34\n",
      "\n",
      "Number is lower than you gussed.\n",
      "Enter again:34\n",
      "\n",
      "Number is lower than you gussed.\n",
      "Enter again:34\n",
      "\n",
      "Number is lower than you gussed.\n",
      "Enter again:34\n",
      "\n",
      "Number is lower than you gussed.\n",
      "Enter again:34\n",
      "\n",
      "Number is lower than you gussed.\n",
      "Enter again:34\n",
      "\n",
      "Number is lower than you gussed.\n",
      "Enter again:34\n",
      "\n",
      "You lose!!!\n",
      "Computer gussed: 7\n"
     ]
    }
   ],
   "source": [
    "##### number guessing game\n",
    "\n",
    "import random\n",
    "\n",
    "a=random.randint(1,100)\n",
    "print(\"You have seven attemps to guess the number.\")\n",
    "i=int(input(\"Enter your guessed number:\"))\n",
    "score=0\n",
    "\n",
    "for score in range(7):\n",
    "    \n",
    "    if i>a:\n",
    "        print(\"Number is lower than you gussed.\")\n",
    "        score+=1\n",
    "    \n",
    "    elif i<a:\n",
    "        print(\"Number is greater than you gussed.\")\n",
    "        score+=1\n",
    "    \n",
    "    elif i==a:\n",
    "        print(\"You gussed the right number!!!\")\n",
    "        score+=1\n",
    "        break\n",
    "    \n",
    "    i=int(input(\"Enter again:\"))\n",
    "    print()\n",
    "    \n",
    "if score==7 and i!=a:\n",
    "    print(\"You lose!!!\")\n",
    "    print(\"Computer gussed:\",a)"
   ]
  },
  {
   "cell_type": "code",
   "execution_count": 61,
   "id": "b94ddde4",
   "metadata": {},
   "outputs": [
    {
     "name": "stdout",
     "output_type": "stream",
     "text": [
      "A book reads carefully.\n"
     ]
    }
   ],
   "source": [
    "# wap to generate a random sentence using articles, nouns, verbs, & adverbs.\n",
    "\n",
    "import random\n",
    "\n",
    "def fun():\n",
    "    articles=['the','a','an']\n",
    "    nouns=['cat','dog','car','apple','book']\n",
    "    verbs=['runs','jumps','eats','reads','drives']\n",
    "    adverbs=['quickly','slowly','happily','loudly','carefully']\n",
    "    \n",
    "    a=random.choice(articles)\n",
    "    b=random.choice(nouns)\n",
    "    c=random.choice(verbs)\n",
    "    d=random.choice(adverbs)\n",
    "    \n",
    "    print(a.title(),b,c,d+\".\")\n",
    "fun()    "
   ]
  },
  {
   "cell_type": "code",
   "execution_count": 20,
   "id": "2b5fb718",
   "metadata": {},
   "outputs": [
    {
     "name": "stdout",
     "output_type": "stream",
     "text": [
      "6 of Spade\n",
      "5 of Spade\n",
      "Jack of Diamonds\n",
      "8 of Diamonds\n",
      "Jack of Clubs\n",
      "7 of Hearts\n",
      "5 of Clubs\n",
      "2 of Hearts\n",
      "Ace of Spade\n",
      "9 of Hearts\n",
      "7 of Clubs\n",
      "Ace of Clubs\n",
      "Queen of Clubs\n",
      "5 of Diamonds\n",
      "7 of Spade\n",
      "9 of Diamonds\n",
      "4 of Diamonds\n",
      "Queen of Spade\n",
      "2 of Clubs\n",
      "8 of Hearts\n",
      "2 of Spade\n",
      "3 of Spade\n",
      "3 of Diamonds\n",
      "King of Hearts\n",
      "8 of Clubs\n",
      "2 of Diamonds\n",
      "5 of Hearts\n",
      "King of Spade\n",
      "9 of Clubs\n",
      "3 of Hearts\n",
      "4 of Spade\n",
      "King of Clubs\n",
      "10 of Hearts\n",
      "Ace of Diamonds\n",
      "6 of Diamonds\n",
      "10 of Spade\n",
      "10 of Clubs\n",
      "Queen of Hearts\n",
      "Queen of Diamonds\n",
      "4 of Hearts\n",
      "4 of Clubs\n",
      "10 of Diamonds\n",
      "6 of Hearts\n",
      "7 of Diamonds\n",
      "Ace of Hearts\n",
      "Jack of Hearts\n",
      "3 of Clubs\n",
      "8 of Spade\n",
      "Jack of Spade\n",
      "6 of Clubs\n",
      "King of Diamonds\n",
      "9 of Spade\n"
     ]
    }
   ],
   "source": [
    "# wap to shuffle a given deck of cards randomly\n",
    "\n",
    "import random\n",
    "\n",
    "def fun():\n",
    "    \n",
    "    suits=['Hearts','Diamonds','Clubs','Spade']\n",
    "    ranks=['Ace','2','3','4','5','6','7','8','9','10','Jack','Queen','King']\n",
    "    a=[]\n",
    "    for i in suits:\n",
    "        for j in ranks:\n",
    "            a.append((i,j))\n",
    "#     print(a)        \n",
    "    random.shuffle(a)\n",
    "    \n",
    "    for i in a:\n",
    "        print(i[1],\"of\",i[0])\n",
    "fun()        "
   ]
  },
  {
   "cell_type": "markdown",
   "id": "92516500",
   "metadata": {},
   "source": [
    "# SimpileGUICS2Pygame"
   ]
  },
  {
   "cell_type": "markdown",
   "id": "c08ccd0a",
   "metadata": {},
   "source": [
    "-> Library created using pygame to make coding games easier to learn for beginners.\n",
    "-> One can learn all the basics of creating games like motion, acceleration, friction, sounds, images etc.\n",
    "\n",
    "//pip install SimpleGUICS2Pygame\n",
    "\n",
    "* Game Template:\n",
    "\n",
    ">Event Driven Programming Mode:\n",
    "    -Program waits till even occurs.\n",
    "    -We create handlers for every event.\n",
    "    \n",
    "* Program Structure:\n",
    "\n",
    "-globals(state)// define somethig globally so it can be used in the entire program\n",
    "-Helper Function\n",
    "-Classes\n",
    "-Define event handlers\n",
    "-Create a frame\n",
    "-Register event handlers\n",
    "-Start frame and Timers"
   ]
  },
  {
   "cell_type": "markdown",
   "id": "1e225f92",
   "metadata": {},
   "source": [
    "* Timers:\n",
    "\n",
    "1. Create  Timer\n",
    "2. Start Timer\n",
    "3. Stop Timer\n",
    "4. Timer is running or not\n",
    "\n",
    "// timer =simplegui.create_timer(500,timer_handler)\n",
    ":in above every 500ms, the timer_handler event will be called.\n",
    "\n",
    "// timer.start(): to start the timer\n",
    "//timer.stop(): to stop the timer"
   ]
  },
  {
   "cell_type": "code",
   "execution_count": 2,
   "id": "7f6bc716",
   "metadata": {},
   "outputs": [
    {
     "name": "stdout",
     "output_type": "stream",
     "text": [
      "waah\n",
      "waah\n",
      "waah\n",
      "waah\n",
      "waah\n",
      "waah\n",
      "waah\n",
      "waah\n"
     ]
    }
   ],
   "source": [
    "import SimpleGUICS2Pygame.simpleguics2pygame as sg\n",
    "\n",
    "def tick(a=input()):\n",
    "    print(a)\n",
    "    \n",
    "timer=sg.create_timer(500,tick)\n",
    "timer.start()"
   ]
  },
  {
   "cell_type": "code",
   "execution_count": 2,
   "id": "ea82290e",
   "metadata": {},
   "outputs": [
    {
     "name": "stdout",
     "output_type": "stream",
     "text": [
      "rock\n",
      "rock\n",
      "rock\n",
      "rock\n",
      "rock\n",
      "rock\n"
     ]
    }
   ],
   "source": [
    "import SimpleGUICS2Pygame.simpleguics2pygame as sg #rewise this\n",
    "\n",
    "t=0\n",
    "def tick(a=input()):\n",
    "    global t\n",
    "    while t==5:\n",
    "        timer.stop()\n",
    "    print(a)    \n",
    "    t+=1    \n",
    "    \n",
    "timer=sg.create_timer(500,tick)\n",
    "timer.start()"
   ]
  },
  {
   "cell_type": "code",
   "execution_count": 2,
   "id": "47daef78",
   "metadata": {},
   "outputs": [
    {
     "name": "stdout",
     "output_type": "stream",
     "text": [
      "False\n",
      "True\n",
      "False\n"
     ]
    }
   ],
   "source": [
    "import SimpleGUICS2Pygame.simpleguics2pygame as sg\n",
    "\n",
    "def time():\n",
    "    pass\n",
    "\n",
    "timer=sg.create_timer(500,time)\n",
    "print(timer.is_running())\n",
    "\n",
    "timer.start()\n",
    "print(timer.is_running())\n",
    "timer.stop()\n",
    "\n",
    "print(timer.is_running())"
   ]
  },
  {
   "cell_type": "code",
   "execution_count": 7,
   "id": "59d0e4ef",
   "metadata": {},
   "outputs": [],
   "source": [
    "import SimpleGUICS2Pygame.simpleguics2pygame as sg\n",
    "\n",
    "frame=sg.create_frame('Test',300,300,50) #creating a frame\n",
    "frame.start()"
   ]
  },
  {
   "cell_type": "code",
   "execution_count": 1,
   "id": "6c6c025d",
   "metadata": {},
   "outputs": [],
   "source": [
    "import SimpleGUICS2Pygame.simpleguics2pygame as sg\n",
    "\n",
    "def bg(canvas):\n",
    "    frame.set_canvas_background(\"skyblue\")\n",
    "\n",
    "frame=sg.create_frame('Test',300,300,50)\n",
    "frame.set_draw_handler(bg)\n",
    "frame.start()"
   ]
  },
  {
   "cell_type": "code",
   "execution_count": 2,
   "id": "f6c051b8",
   "metadata": {},
   "outputs": [],
   "source": [
    "import SimpleGUICS2Pygame.simpleguics2pygame as sg\n",
    "\n",
    "color=['lightpink','skyblue','lightorange']\n",
    "t=0\n",
    "\n",
    "def tec():\n",
    "    global t\n",
    "    t+=1\n",
    "    if t==3:\n",
    "        t=0\n",
    "\n",
    "def bg(canvas):\n",
    "    frame.set_canvas_background(color[t])\n",
    "\n",
    "timer=sg.create_timer(1000,tec)        \n",
    "frame=sg.create_frame('Test',300,300,50)\n",
    "\n",
    "frame.set_draw_handler(bg)\n",
    "\n",
    "timer.start()\n",
    "frame.start()"
   ]
  },
  {
   "cell_type": "code",
   "execution_count": 2,
   "id": "b0686d73",
   "metadata": {},
   "outputs": [],
   "source": [
    "import SimpleGUICS2Pygame.simpleguics2pygame as sg\n",
    "\n",
    "t=0\n",
    "color=['lightpink','skyblue','lightorange']\n",
    "\n",
    "def tec():\n",
    "    global t\n",
    "    t+=1\n",
    "    if t==3:\n",
    "        t=0\n",
    "\n",
    "def draw(canvas):\n",
    "    frame.set_canvas_background(color[t])\n",
    "    canvas.draw_text('Hello',(50,50),15,'White')\n",
    "    canvas.draw_text('World',(100,50),17,'White')\n",
    "    canvas.draw_text('My',(150,50),19,'White')\n",
    "    \n",
    "timer=sg.create_timer(1000,tec)    \n",
    "frame=sg.create_frame('Demo',300,300,50)\n",
    "\n",
    "frame.set_draw_handler(draw)\n",
    "\n",
    "frame.start()\n",
    "timer.start()"
   ]
  },
  {
   "cell_type": "code",
   "execution_count": 6,
   "id": "9013c834",
   "metadata": {},
   "outputs": [],
   "source": [
    "import SimpleGUICS2Pygame.simpleguics2pygame as sg\n",
    "\n",
    "def draw(canvas): \n",
    "    frame.set_canvas_background(\"lightblue\")\n",
    "    canvas.draw_line((50,100),(45,200),3,\"White\")\n",
    "    canvas.draw_line((80,100),(65,200),4,\"White\")\n",
    "    canvas.draw_line((110,100),(85,200),5,\"White\")\n",
    "    \n",
    "frame=sg.create_frame('Test',300,300)\n",
    "\n",
    "frame.set_draw_handler(draw)\n",
    "\n",
    "frame.start()"
   ]
  },
  {
   "cell_type": "code",
   "execution_count": 7,
   "id": "54c331f0",
   "metadata": {},
   "outputs": [],
   "source": [
    "import SimpleGUICS2Pygame.simpleguics2pygame as sg\n",
    "\n",
    "def draw(canvas):  \n",
    "    canvas.draw_polyline([(10,20),(30,20),(40,50),(50,60)],3,\"white\")\n",
    "    canvas.draw_polyline([(50,30),(80,50),(190,70),(100,80)],4,\"white\")\n",
    "    frame.set_canvas_background(\"lightblue\")\n",
    "    \n",
    "frame=sg.create_frame(\"Test\",300,300)\n",
    "\n",
    "frame.set_draw_handler(draw)\n",
    "\n",
    "frame.start()"
   ]
  },
  {
   "cell_type": "code",
   "execution_count": 1,
   "id": "344e6671",
   "metadata": {},
   "outputs": [],
   "source": [
    "import SimpleGUICS2Pygame.simpleguics2pygame as sg\n",
    "\n",
    "def draw(canvas):    \n",
    "    canvas.draw_polygon([(10,20),(30,20),(90,70)],3,\"white\",\"blue\")\n",
    "    canvas.draw_polygon([(40,20),(80,40),(30,90)],4,\"white\",'blue')\n",
    "    frame.set_canvas_background(\"lightblue\")\n",
    "    \n",
    "frame=sg.create_frame(\"Test\",300,300)\n",
    "\n",
    "frame.set_draw_handler(draw)\n",
    "\n",
    "frame.start()"
   ]
  },
  {
   "cell_type": "code",
   "execution_count": 11,
   "id": "9b3b9c96",
   "metadata": {},
   "outputs": [],
   "source": [
    "import SimpleGUICS2Pygame.simpleguics2pygame as sg\n",
    "\n",
    "def draw(canvas):\n",
    "    canvas.draw_circle((150,150),150,4,\"white\",'blue')\n",
    "    canvas.draw_circle((150,150),75,4,\"white\",'blue')\n",
    "    canvas.draw_circle((150,150),5,50,\"white\",'blue')\n",
    "    frame.set_canvas_background(\"lightblue\")\n",
    "    \n",
    "frame=sg.create_frame(\"Test\",300,300)\n",
    "\n",
    "frame.set_draw_handler(draw)\n",
    "\n",
    "frame.start()    "
   ]
  },
  {
   "cell_type": "code",
   "execution_count": 1,
   "id": "2e31c48e",
   "metadata": {},
   "outputs": [],
   "source": [
    "import SimpleGUICS2Pygame.simpleguics2pygame as sg\n",
    "\n",
    "def but():\n",
    "    pass\n",
    "\n",
    "frame=sg.create_frame('test',400,400)\n",
    "\n",
    "button1=frame.add_button(\"B1\",but,50)\n",
    "button2=frame.add_button(\"B2\",but,50)\n",
    "\n",
    "frame.start()"
   ]
  },
  {
   "cell_type": "code",
   "execution_count": null,
   "id": "6d3c0727",
   "metadata": {},
   "outputs": [],
   "source": [
    "import SimpleGUICS2Pygame.simpleguics2pygame as sg\n",
    "\n",
    "def draw(canvas):\n",
    "    pass\n",
    "    \n",
    "def but1():\n",
    "        frame.set_canvas_background('red')\n",
    "\n",
    "def but2():\n",
    "        frame.set_canvas_background('blue')\n",
    "\n",
    "frame=sg.create_frame('test',400,400)\n",
    "\n",
    "button1=frame.add_button(\"Red\",but1,50)\n",
    "button2=frame.add_button(\"Blue\",but2,50)\n",
    "\n",
    "frame.set_draw_handler(draw)\n",
    "\n",
    "frame.start()"
   ]
  },
  {
   "cell_type": "code",
   "execution_count": 4,
   "id": "69409fb2",
   "metadata": {},
   "outputs": [
    {
     "name": "stdout",
     "output_type": "stream",
     "text": [
      "Demo\n",
      "Demo\n"
     ]
    }
   ],
   "source": [
    "import SimpleGUICS2Pygame.simpleguics2pygame as sg\n",
    "\n",
    "def time():\n",
    "    print('Demo')\n",
    "    \n",
    "def start():\n",
    "    timer.start()\n",
    "\n",
    "def stop():\n",
    "    timer.stop()\n",
    "    \n",
    "timer=sg.create_timer(1000,time)\n",
    "frame=sg.create_frame(\"Test\",300,300)\n",
    "\n",
    "button1=frame.add_button(\"Start\",start)\n",
    "button2=frame.add_button(\"Stop\",stop)\n",
    "\n",
    "frame.start()"
   ]
  },
  {
   "cell_type": "code",
   "execution_count": 9,
   "id": "0b9eb138",
   "metadata": {},
   "outputs": [],
   "source": [
    "import SimpleGUICS2Pygame.simpleguics2pygame as sg # this is good one think about this\n",
    "\n",
    "msg=\"Waaah\"\n",
    "flag=0\n",
    "def time():\n",
    "    global msg,flg\n",
    "    flag=1\n",
    "    if flag==1:\n",
    "        msg=\"Nope\"\n",
    "    \n",
    "    \n",
    "def simple(canvas):\n",
    "    global msg,flag\n",
    "    canvas.draw_text(msg,[50,100],15,\"white\")\n",
    "    flag=0\n",
    "    if flag==0:\n",
    "        msg=\"Waah\"\n",
    "    if flag==1:\n",
    "        time()\n",
    "    frame.set_canvas_background('blue')\n",
    "    \n",
    "frame=sg.create_frame(\"Test\",300,300)\n",
    "\n",
    "button1=frame.add_button(\"Click Me!!!\",time)\n",
    "\n",
    "frame.set_draw_handler(simple)\n",
    "\n",
    "frame.start()"
   ]
  },
  {
   "cell_type": "code",
   "execution_count": 4,
   "id": "80169edb",
   "metadata": {},
   "outputs": [],
   "source": [
    "import SimpleGUICS2Pygame.simpleguics2pygame as sg\n",
    "\n",
    "msg=\"Demo\"\n",
    "y=20\n",
    "x=20\n",
    "\n",
    "def time():\n",
    "    global x,y\n",
    "    \n",
    "    y+=20\n",
    "\n",
    "    if y==240:\n",
    "        y=20\n",
    "    \n",
    "def simple(canvas):\n",
    "    global msg,x,y\n",
    "    canvas.draw_text(msg,(x,y),20,\"White\")\n",
    "    \n",
    "def start():\n",
    "    timer.start()\n",
    "\n",
    "def stop():\n",
    "    timer.stop()\n",
    "\n",
    "timer=sg.create_timer(500,time)\n",
    "frame=sg.create_frame(\"Demo\",300,300)\n",
    "    \n",
    "button1=frame.add_button(\"Start\",start)\n",
    "button2=frame.add_button(\"Stop\",stop)    \n",
    "\n",
    "frame.set_draw_handler(simple)\n",
    "frame.start()"
   ]
  }
 ],
 "metadata": {
  "kernelspec": {
   "display_name": "Python 3 (ipykernel)",
   "language": "python",
   "name": "python3"
  },
  "language_info": {
   "codemirror_mode": {
    "name": "ipython",
    "version": 3
   },
   "file_extension": ".py",
   "mimetype": "text/x-python",
   "name": "python",
   "nbconvert_exporter": "python",
   "pygments_lexer": "ipython3",
   "version": "3.9.13"
  }
 },
 "nbformat": 4,
 "nbformat_minor": 5
}
